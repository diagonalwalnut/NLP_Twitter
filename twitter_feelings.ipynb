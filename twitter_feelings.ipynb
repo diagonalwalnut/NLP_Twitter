{
 "cells": [
  {
   "cell_type": "markdown",
   "id": "e96b0ba6",
   "metadata": {},
   "source": [
    "https://medium.com/analytics-vidhya/simplifying-social-media-sentiment-analysis-using-vader-in-python-f9e6ec6fc52f\n",
    "https://towardsdatascience.com/almost-real-time-twitter-sentiment-analysis-with-tweep-vader-f88ed5b93b1c\n",
    "https://python.plainenglish.io/twitter-sentiment-analysis-using-vader-tweepy-b2a62fba151e\n",
    "https://www.analyticsvidhya.com/blog/2021/06/twitter-sentiment-analysis-a-nlp-use-case-for-beginners/"
   ]
  },
  {
   "cell_type": "code",
   "execution_count": 32,
   "id": "2d7f470c",
   "metadata": {
    "scrolled": true
   },
   "outputs": [
    {
     "name": "stdout",
     "output_type": "stream",
     "text": [
      "Collecting twitter\n",
      "  Downloading twitter-1.19.3-py2.py3-none-any.whl (50 kB)\n",
      "\u001b[K     |████████████████████████████████| 50 kB 1.7 MB/s eta 0:00:01\n",
      "\u001b[?25hInstalling collected packages: twitter\n",
      "Successfully installed twitter-1.19.3\n"
     ]
    }
   ],
   "source": [
    "# !pip install vaderSentiment\n",
    "# !pip install twitter"
   ]
  },
  {
   "cell_type": "code",
   "execution_count": 44,
   "id": "cbefcfd0",
   "metadata": {},
   "outputs": [],
   "source": [
    "import requests\n",
    "import base64\n",
    "import pandas as pd\n",
    "from vaderSentiment.vaderSentiment import SentimentIntensityAnalyzer\n",
    "from twitter import *"
   ]
  },
  {
   "cell_type": "code",
   "execution_count": 116,
   "id": "a4b795b4",
   "metadata": {},
   "outputs": [],
   "source": [
    "api_vars = get_dataframe(\"twitter.pkl\")\n",
    "\n",
    "CLIENT_KEY = api_vars.client_key[0]\n",
    "CLIENT_SECRET =  api_vars.client_secret[0]\n",
    "ACCESS_TOKEN = api_vars.access_token[0]\n",
    "ACCESS_TOKEN_SECRET = api_vars.token_secret[0]\n",
    "\n",
    "TOPIC = \"Lockheed -filter:retweet\"\n",
    "\n",
    "MAX_TWEETS = 400\n",
    "TWEET_LIMIT = 100 # we can get only 100 tweet per call with standard search api\n",
    "\n",
    "PICKLE_FILENAME = \"lockheed_tweets.pkl\""
   ]
  },
  {
   "cell_type": "code",
   "execution_count": 94,
   "id": "6b294bd5",
   "metadata": {},
   "outputs": [],
   "source": [
    "def tweet_generator(tweets):\n",
    "    for tweet in tweets:\n",
    "        modified_tweet= dict(tweet)\n",
    "\n",
    "        modified_tweet['user_id'] = tweet['user']['id']\n",
    "        del modified_tweet['user']\n",
    "        \n",
    "        if 'retweeted_status' in tweet:\n",
    "            modified_tweet['retweeted_status_id'] = tweet['retweeted_status']['id']\n",
    "            del modified_tweet['retweeted_status']\n",
    "        \n",
    "        yield modified_tweet\n",
    "\n",
    "def save_to_file(ts, file_name):\n",
    "    ts.to_pickle(file_name)\n",
    "    return None\n",
    "\n",
    "def get_dataframe(file_name):\n",
    "    return pd.read_pickle(file_name)"
   ]
  },
  {
   "cell_type": "code",
   "execution_count": 81,
   "id": "5cd22946",
   "metadata": {},
   "outputs": [],
   "source": [
    "key_secret = '{}:{}'.format(CLIENT_KEY, CLIENT_SECRET).encode('ascii')\n",
    "b64_encoded_key = base64.b64encode(key_secret)\n",
    "b64_encoded_key = b64_encoded_key.decode('ascii')\n",
    "\n",
    "base_url = 'https://api.twitter.com/'\n",
    "auth_endpoint = base_url+'oauth2/token'\n",
    "\n",
    "auth_headers = { 'Authorization': 'Basic {}'.format(b64_encoded_key),\n",
    "                'Content-Type': 'application/x-www-form-urlencoded;charset=UTF-8'}\n",
    "\n",
    "auth_data = { 'grant_type': 'client_credentials'}\n",
    "\n",
    "response = requests.post(auth_endpoint, headers=auth_headers, data=auth_data)\n",
    "json_data =  response.json()\n",
    "access_token = json_data['access_token']\n",
    "\n",
    "search_headers = {'Authorization': 'Bearer {}'.format(access_token)}"
   ]
  },
  {
   "cell_type": "code",
   "execution_count": 117,
   "id": "ca60e173",
   "metadata": {},
   "outputs": [
    {
     "name": "stdout",
     "output_type": "stream",
     "text": [
      "Reading from file.\n",
      "File read. Retrieved 400 tweets.\n",
      "Min ID: 1451566522439135238.\n"
     ]
    }
   ],
   "source": [
    "try:\n",
    "    print(\"Reading from file.\")\n",
    "    tweet_df = get_dataframe(PICKLE_FILENAME)\n",
    "    print(f\"File read. Retrieved {len(tweet_df)} tweets.\")\n",
    "except:\n",
    "    print(\"Error reading from file.\")\n",
    "    parameters = { 'q': TOPIC, 'result_type': 'all', 'count': TWEET_LIMIT }\n",
    "    search_url = base_url+'1.1/search/tweets.json'\n",
    "    response = requests.get(search_url, headers=search_headers, params=parameters)\n",
    "    print(\"Getting tweets.\")\n",
    "    tweet_response = response.json()\n",
    "    ids = [tw['id'] for tw in tweet_response['statuses']]\n",
    "    tw_ids = []\n",
    "    tw_ids += ids\n",
    "\n",
    "    temp = []\n",
    "\n",
    "    temp += tweet_response['statuses']\n",
    "    print('Total tweets retrieved= {}'.format(len(temp)))\n",
    "    \n",
    "    tweet_df = pd.DataFrame(tweet_generator(temp))\n",
    "\n",
    "min_id = tweet_df.tail(1).id.values[0]\n",
    "print(f\"Min ID: {min_id}.\")"
   ]
  },
  {
   "cell_type": "code",
   "execution_count": 118,
   "id": "212ab0d5",
   "metadata": {},
   "outputs": [
    {
     "name": "stdout",
     "output_type": "stream",
     "text": [
      "searching tweets with id  < 1451566522439135238\n",
      "Getting tweets.\n",
      "Got tweets.\n",
      "Round #0; Number of tweets: 100\n",
      "searching tweets with id  < 1451546943704940554\n",
      "Getting tweets.\n",
      "Got tweets.\n",
      "Round #1; Number of tweets: 100\n",
      "searching tweets with id  < 1451526291342217217\n",
      "Getting tweets.\n",
      "Got tweets.\n",
      "Round #2; Number of tweets: 96\n",
      "All Done.\n"
     ]
    }
   ],
   "source": [
    "temp = []\n",
    "\n",
    "for  i in range(MAX_TWEETS//TWEET_LIMIT -1):\n",
    "    parameters = { 'q': TOPIC, 'result_type': 'recent', 'count': TWEET_LIMIT, 'max_id': min_id}\n",
    "    print(\"searching tweets with id  < {}\".format(min_id))\n",
    "    search_url = base_url+'1.1/search/tweets.json'\n",
    "    try:\n",
    "        print(\"Getting tweets.\")\n",
    "        response = requests.get(search_url, headers=search_headers, params=parameters)\n",
    "        tweet_response = response.json()\n",
    "        print(\"Got tweets.\")\n",
    "    except:\n",
    "        print(\"Something bad happened.\")\n",
    "        break\n",
    "    \n",
    "    ids = [tw['id'] for tw in tweet_response['statuses']]\n",
    "    tw_ids += ids\n",
    "    print(f\"Round #{i}; Number of tweets: {len(tweet_response['statuses'])}\")\n",
    "    if min_id == min(ids):\n",
    "        print(\"We are not progressing.\")\n",
    "        break\n",
    "    min_id = min(ids)\n",
    "    temp += tweet_response['statuses']\n",
    "\n",
    "print(\"All Done.\")\n",
    "tweet_df = tweet_df.append(pd.DataFrame(tweet_generator(temp)), ignore_index=True)\n",
    "#save_to_file(tweet_df, PICKLE_FILENAME)"
   ]
  },
  {
   "cell_type": "code",
   "execution_count": 119,
   "id": "5ad8b6ff",
   "metadata": {},
   "outputs": [
    {
     "name": "stdout",
     "output_type": "stream",
     "text": [
      "Total tweets retrieved= 696\n"
     ]
    }
   ],
   "source": [
    "print('Total tweets retrieved= {}'.format(len(tweet_df)))\n",
    "save_to_file(tweet_df, PICKLE_FILENAME)"
   ]
  },
  {
   "cell_type": "code",
   "execution_count": 120,
   "id": "b52a8292",
   "metadata": {},
   "outputs": [
    {
     "data": {
      "text/plain": [
       "696"
      ]
     },
     "execution_count": 120,
     "metadata": {},
     "output_type": "execute_result"
    }
   ],
   "source": [
    "tweet_df = get_dataframe(PICKLE_FILENAME)\n",
    "len(tweet_df)"
   ]
  }
 ],
 "metadata": {
  "kernelspec": {
   "display_name": "Python 3",
   "language": "python",
   "name": "python3"
  },
  "language_info": {
   "codemirror_mode": {
    "name": "ipython",
    "version": 3
   },
   "file_extension": ".py",
   "mimetype": "text/x-python",
   "name": "python",
   "nbconvert_exporter": "python",
   "pygments_lexer": "ipython3",
   "version": "3.9.4"
  }
 },
 "nbformat": 4,
 "nbformat_minor": 5
}
